{
 "cells": [
  {
   "cell_type": "code",
   "execution_count": 39,
   "id": "verbal-strategy",
   "metadata": {},
   "outputs": [],
   "source": []
  },
  {
   "cell_type": "code",
   "execution_count": 41,
   "id": "fifteen-klein",
   "metadata": {},
   "outputs": [],
   "source": [
    "from nltk.sentiment.vader import SentimentIntensityAnalyzer as SIA"
   ]
  },
  {
   "cell_type": "code",
   "execution_count": 42,
   "id": "alternate-student",
   "metadata": {},
   "outputs": [],
   "source": [
    "import pandas as pd # import the Pandas Library\n",
    "import re # import Regular expression library\n",
    "from datetime import datetime\n",
    "import nltk"
   ]
  },
  {
   "cell_type": "code",
   "execution_count": 31,
   "id": "hollow-detector",
   "metadata": {},
   "outputs": [],
   "source": [
    "df1 = pd.read_csv(\"tesla-headlines-sa.csv\", encoding='windows-1250', header=None)"
   ]
  },
  {
   "cell_type": "code",
   "execution_count": 33,
   "id": "positive-peninsula",
   "metadata": {},
   "outputs": [
    {
     "data": {
      "text/html": [
       "<div>\n",
       "<style scoped>\n",
       "    .dataframe tbody tr th:only-of-type {\n",
       "        vertical-align: middle;\n",
       "    }\n",
       "\n",
       "    .dataframe tbody tr th {\n",
       "        vertical-align: top;\n",
       "    }\n",
       "\n",
       "    .dataframe thead th {\n",
       "        text-align: right;\n",
       "    }\n",
       "</style>\n",
       "<table border=\"1\" class=\"dataframe\">\n",
       "  <thead>\n",
       "    <tr style=\"text-align: right;\">\n",
       "      <th></th>\n",
       "      <th>Title</th>\n",
       "      <th>Date</th>\n",
       "    </tr>\n",
       "  </thead>\n",
       "  <tbody>\n",
       "    <tr>\n",
       "      <th>0</th>\n",
       "      <td>Tesla: Nothing Matters, Until Everything Matters</td>\n",
       "      <td>Dec. 9</td>\n",
       "    </tr>\n",
       "    <tr>\n",
       "      <th>1</th>\n",
       "      <td>Tesla: The Hype Does Not Reflect Reality</td>\n",
       "      <td>The European View•Fri, Dec. 6•742 Comments</td>\n",
       "    </tr>\n",
       "    <tr>\n",
       "      <th>2</th>\n",
       "      <td>Tesla Will Likely Achieve Record Deliveries In...</td>\n",
       "      <td>iBEV•Wed, Dec. 4•340 Comments</td>\n",
       "    </tr>\n",
       "    <tr>\n",
       "      <th>3</th>\n",
       "      <td>Tesla: Automatic Labeling For Computer Vision</td>\n",
       "      <td>Trent Eady•Tue, Dec. 3•240 Comments</td>\n",
       "    </tr>\n",
       "    <tr>\n",
       "      <th>4</th>\n",
       "      <td>Tesla: Ready To Re-Enter The Fast Lane</td>\n",
       "      <td>DoctoRx•Tue, Dec. 3•229 Comments</td>\n",
       "    </tr>\n",
       "  </tbody>\n",
       "</table>\n",
       "</div>"
      ],
      "text/plain": [
       "                                               Title  \\\n",
       "0   Tesla: Nothing Matters, Until Everything Matters   \n",
       "1           Tesla: The Hype Does Not Reflect Reality   \n",
       "2  Tesla Will Likely Achieve Record Deliveries In...   \n",
       "3      Tesla: Automatic Labeling For Computer Vision   \n",
       "4             Tesla: Ready To Re-Enter The Fast Lane   \n",
       "\n",
       "                                         Date  \n",
       "0                                      Dec. 9  \n",
       "1  The European View•Fri, Dec. 6•742 Comments  \n",
       "2               iBEV•Wed, Dec. 4•340 Comments  \n",
       "3         Trent Eady•Tue, Dec. 3•240 Comments  \n",
       "4            DoctoRx•Tue, Dec. 3•229 Comments  "
      ]
     },
     "execution_count": 33,
     "metadata": {},
     "output_type": "execute_result"
    }
   ],
   "source": [
    "df1['Date'][0] = 'Dec. 9'\n",
    "df1.head() # display the first 5 rows"
   ]
  },
  {
   "cell_type": "code",
   "execution_count": 34,
   "id": "useful-secretariat",
   "metadata": {},
   "outputs": [],
   "source": [
    "#Date modified"
   ]
  },
  {
   "cell_type": "code",
   "execution_count": 35,
   "id": "literary-mortality",
   "metadata": {},
   "outputs": [
    {
     "name": "stdout",
     "output_type": "stream",
     "text": [
      "The European View•Fri, Dec. 6•742 Comments\n",
      "Dec. 6, 2019\n"
     ]
    }
   ],
   "source": [
    "#Date modified\n",
    "print(df1['Date'][1]) # display original\n",
    "\n",
    "match = re.search(r'\\w{3}\\.\\s\\d{1,2}', df1['Date'][1])\n",
    "\n",
    "modifiedDate = match[0] + \", 2019\"\n",
    "\n",
    "print(modifiedDate) # display modified"
   ]
  },
  {
   "cell_type": "code",
   "execution_count": 27,
   "id": "checked-assurance",
   "metadata": {},
   "outputs": [],
   "source": [
    "#variation 2"
   ]
  },
  {
   "cell_type": "code",
   "execution_count": 26,
   "id": "common-craps",
   "metadata": {},
   "outputs": [
    {
     "name": "stdout",
     "output_type": "stream",
     "text": [
      "Donn Bailey•Mar. 27, 2018•128 Comments\n",
      "Mar. 27, 2018\n"
     ]
    }
   ],
   "source": [
    "print(df1['Date'][1000]) # display original\n",
    "\n",
    "match = re.search(r'\\w{3}\\.\\s\\d{1,2}\\,\\s\\d{4}', df1['Date'][1000])\n",
    "\n",
    "print(match[0]) # display modified"
   ]
  },
  {
   "cell_type": "code",
   "execution_count": null,
   "id": "processed-logic",
   "metadata": {},
   "outputs": [],
   "source": [
    "#varaition 4"
   ]
  },
  {
   "cell_type": "code",
   "execution_count": 29,
   "id": "curious-tonight",
   "metadata": {},
   "outputs": [
    {
     "name": "stdout",
     "output_type": "stream",
     "text": [
      "Acolyte of Value•Mon, May 13•351 Comments\n",
      "May 13, 2019\n",
      "Quoth the Raven•May 17, 2018•123 Comments\n",
      "May 17, 2018\n"
     ]
    }
   ],
   "source": [
    "print(df1['Date'][200]) # display original (without year)\n",
    "match = re.search(r'\\w{3}\\s\\d{1,2}', df1['Date'][200])\n",
    "modifiedDate = match[0] + \", 2019\"\n",
    "print(modifiedDate) # display modified\n",
    "\n",
    "print(df1['Date'][850]) # display original (with year)\n",
    "match = re.search(r'\\w{3}\\s\\d{1,2}\\,\\s\\d{4}', df1['Date'][850])\n",
    "print(match[0]) # display modified"
   ]
  },
  {
   "cell_type": "code",
   "execution_count": null,
   "id": "central-present",
   "metadata": {},
   "outputs": [],
   "source": [
    "#date and time format"
   ]
  },
  {
   "cell_type": "code",
   "execution_count": 36,
   "id": "junior-debate",
   "metadata": {},
   "outputs": [
    {
     "name": "stdout",
     "output_type": "stream",
     "text": [
      "2019-12-06\n",
      "2018-05-17\n"
     ]
    }
   ],
   "source": [
    "newDate1 = datetime.strptime('Dec. 6, 2019', '%b. %d, %Y').date()\n",
    "print(newDate1)\n",
    "\n",
    "newDate2 = datetime.strptime('May 17, 2018', '%b %d, %Y').date()\n",
    "print(newDate2)"
   ]
  },
  {
   "cell_type": "code",
   "execution_count": 37,
   "id": "favorite-athens",
   "metadata": {},
   "outputs": [],
   "source": [
    "#cleaned dates: "
   ]
  },
  {
   "cell_type": "code",
   "execution_count": null,
   "id": "decreased-screen",
   "metadata": {},
   "outputs": [],
   "source": [
    "newDateList = [] # create a list to store the cleaned dates\n",
    "\n",
    "for dateOfArticles in df1['Date']: # loop every row in the \"Date\" column\n",
    "    match = re.search(r'\\w{3}\\.\\s\\d{1,2}\\,\\s\\d{4}|May\\s\\d{1,2}\\,\\s\\d{4}|\\w{3}\\.\\s\\d{1,2}|May\\s\\d{1,2}', \n",
    "                      dateOfArticles)\n",
    "\n",
    "    if re.search(r'\\w{3}\\.\\s\\d{1,2}\\,\\s\\d{4}|\\w{3}\\s\\d{1,2}\\,\\s\\d{4}',match[0]):\n",
    "        fulldate = match[0] # don't append year to string\n",
    "    else:\n",
    "        fulldate = match[0] + \", 2019\" # append year to string\n",
    "    \n",
    "    for fmt in ('%b. %d, %Y', '%b %d, %Y'):\n",
    "        try:\n",
    "            newDate = datetime.strptime(fulldate, fmt).date()\n",
    "            break # if format is correct, don't test any other formats\n",
    "        except ValueError:\n",
    "            pass\n",
    "        \n",
    "    newDateList.append(newDate) # add new date to the list\n",
    "\n",
    "if(len(newDateList) != df1.shape[0]):\n",
    "    print(\"Error: Rows don't match\")\n",
    "else:\n",
    "    df1['New Date'] = newDateList # add the list to our original dataframe\n",
    "\n",
    "df1"
   ]
  },
  {
   "cell_type": "code",
   "execution_count": null,
   "id": "matched-edition",
   "metadata": {},
   "outputs": [],
   "source": [
    "#nltk.download('vader_lexicon')\n"
   ]
  },
  {
   "cell_type": "code",
   "execution_count": 43,
   "id": "laughing-pharmacy",
   "metadata": {},
   "outputs": [
    {
     "name": "stderr",
     "output_type": "stream",
     "text": [
      "[nltk_data] Downloading package vader_lexicon to\n",
      "[nltk_data]     /Users/anshulkhatri/nltk_data...\n",
      "[nltk_data]   Package vader_lexicon is already up-to-date!\n"
     ]
    },
    {
     "data": {
      "text/plain": [
       "True"
      ]
     },
     "execution_count": 43,
     "metadata": {},
     "output_type": "execute_result"
    }
   ],
   "source": [
    "nltk.download('vader_lexicon')\n"
   ]
  },
  {
   "cell_type": "code",
   "execution_count": null,
   "id": "regional-module",
   "metadata": {},
   "outputs": [],
   "source": [
    "results = []\n",
    "\n",
    "for headline in df1['Title']:\n",
    "    pol_score = SIA().polarity_scores(headline) # run analysis\n",
    "    pol_score['headline'] = headline # add headlines for viewing\n",
    "    results.append(pol_score)\n",
    "\n",
    "results"
   ]
  },
  {
   "cell_type": "code",
   "execution_count": null,
   "id": "juvenile-thirty",
   "metadata": {},
   "outputs": [],
   "source": []
  },
  {
   "cell_type": "code",
   "execution_count": 46,
   "id": "wrapped-communications",
   "metadata": {},
   "outputs": [],
   "source": [
    "df1['Score'] = pd.DataFrame(results)['compound']\n"
   ]
  },
  {
   "cell_type": "code",
   "execution_count": null,
   "id": "accompanied-canvas",
   "metadata": {},
   "outputs": [],
   "source": [
    "df1"
   ]
  },
  {
   "cell_type": "code",
   "execution_count": 48,
   "id": "decreased-optimization",
   "metadata": {},
   "outputs": [],
   "source": [
    "# creates a daily score by summing the scores of the individual articles in each day"
   ]
  },
  {
   "cell_type": "code",
   "execution_count": 49,
   "id": "brilliant-equality",
   "metadata": {},
   "outputs": [],
   "source": [
    "df2 = df1.groupby(['New Date']).sum() # creates a daily score by summing the scores of the individual articles in each day\n"
   ]
  },
  {
   "cell_type": "code",
   "execution_count": null,
   "id": "unlikely-elizabeth",
   "metadata": {},
   "outputs": [],
   "source": []
  },
  {
   "cell_type": "code",
   "execution_count": 50,
   "id": "promising-addiction",
   "metadata": {},
   "outputs": [],
   "source": [
    "dfEodPrice = pd.read_csv(\"tsla-eod-prices.csv\")\n"
   ]
  },
  {
   "cell_type": "code",
   "execution_count": 53,
   "id": "secret-telephone",
   "metadata": {},
   "outputs": [
    {
     "data": {
      "text/plain": [
       "pandas._libs.tslibs.timestamps.Timestamp"
      ]
     },
     "execution_count": 53,
     "metadata": {},
     "output_type": "execute_result"
    }
   ],
   "source": [
    "type(dfEodPrice['Date'][1])"
   ]
  },
  {
   "cell_type": "code",
   "execution_count": 52,
   "id": "descending-guess",
   "metadata": {},
   "outputs": [],
   "source": [
    "dfEodPrice['Date'] = dfEodPrice['Date'].astype('datetime64[ns]') \n"
   ]
  },
  {
   "cell_type": "code",
   "execution_count": null,
   "id": "serial-owner",
   "metadata": {},
   "outputs": [],
   "source": [
    "# only interested in the “Adj Close”\n",
    "#let’s drop all unwanted rows. "
   ]
  },
  {
   "cell_type": "code",
   "execution_count": 54,
   "id": "front-uzbekistan",
   "metadata": {},
   "outputs": [],
   "source": [
    "dfEodPrice2 = dfEodPrice.drop(['Open', 'High','Low','Close','Volume'], axis=1) # drop unwanted rows\n",
    "dfEodPrice2.set_index('Date', inplace=True) # set Date coloumn as index"
   ]
  },
  {
   "cell_type": "code",
   "execution_count": null,
   "id": "specialized-advancement",
   "metadata": {},
   "outputs": [],
   "source": [
    "dfEodPrice2"
   ]
  },
  {
   "cell_type": "code",
   "execution_count": null,
   "id": "complicated-reducing",
   "metadata": {},
   "outputs": [],
   "source": [
    "#To calculate daily returns, we divide today’s prices by yesterday’s."
   ]
  },
  {
   "cell_type": "code",
   "execution_count": 56,
   "id": "noted-field",
   "metadata": {},
   "outputs": [],
   "source": [
    "dfEodPrice2['Returns'] = dfEodPrice2['Adj Close']/dfEodPrice2['Adj Close'].shift(1) - 1 # calculate daily returns\n"
   ]
  },
  {
   "cell_type": "code",
   "execution_count": 57,
   "id": "studied-brunswick",
   "metadata": {},
   "outputs": [],
   "source": [
    "#Step 1: Lagged the sentiment score\n",
    "\n"
   ]
  },
  {
   "cell_type": "code",
   "execution_count": 58,
   "id": "extended-channels",
   "metadata": {},
   "outputs": [],
   "source": [
    "df2['Score(1)'] = df2.shift(1)"
   ]
  },
  {
   "cell_type": "code",
   "execution_count": null,
   "id": "looking-memorial",
   "metadata": {},
   "outputs": [],
   "source": [
    "df2"
   ]
  },
  {
   "cell_type": "code",
   "execution_count": 61,
   "id": "preceding-jacksonville",
   "metadata": {},
   "outputs": [],
   "source": [
    "#some days there are no news, so checking that as well."
   ]
  },
  {
   "cell_type": "code",
   "execution_count": 62,
   "id": "architectural-affairs",
   "metadata": {},
   "outputs": [],
   "source": [
    "dfEodPrice3 = pd.merge(dfEodPrice2[['Returns']], df2[['Score(1)']], left_index=True, right_index=True, how='left')\n"
   ]
  },
  {
   "cell_type": "code",
   "execution_count": null,
   "id": "traditional-passion",
   "metadata": {},
   "outputs": [],
   "source": [
    "dfEodPrice3"
   ]
  },
  {
   "cell_type": "code",
   "execution_count": 64,
   "id": "hired-cambridge",
   "metadata": {},
   "outputs": [],
   "source": [
    "#cleaning NAN with 0"
   ]
  },
  {
   "cell_type": "code",
   "execution_count": 67,
   "id": "beautiful-officer",
   "metadata": {},
   "outputs": [],
   "source": [
    "dfReturnsScore = dfEodPrice3"
   ]
  },
  {
   "cell_type": "code",
   "execution_count": 68,
   "id": "inappropriate-insurance",
   "metadata": {},
   "outputs": [],
   "source": [
    "dfReturnsScore.fillna(0, inplace=True) \n",
    "# replace NaN with 0 permanently"
   ]
  },
  {
   "cell_type": "code",
   "execution_count": null,
   "id": "executive-condition",
   "metadata": {},
   "outputs": [],
   "source": [
    "dfReturnsScore"
   ]
  },
  {
   "cell_type": "code",
   "execution_count": 72,
   "id": "functioning-fluid",
   "metadata": {},
   "outputs": [],
   "source": [
    "#other factors as well whicih affect the tesla stock price. So we remove all those socere on reage of 0.5 - (-0.5)\n",
    "dfReturnsScore2 = dfReturnsScore"
   ]
  },
  {
   "cell_type": "code",
   "execution_count": 73,
   "id": "close-hawaiian",
   "metadata": {},
   "outputs": [],
   "source": [
    "dfReturnsScore2 = dfReturnsScore[(dfReturnsScore['Score(1)'] > 0.5) | (dfReturnsScore['Score(1)'] < -0.5)]\n"
   ]
  },
  {
   "cell_type": "code",
   "execution_count": null,
   "id": "adjacent-phone",
   "metadata": {},
   "outputs": [],
   "source": [
    "dfReturnsScore2"
   ]
  },
  {
   "cell_type": "code",
   "execution_count": 75,
   "id": "duplicate-lightweight",
   "metadata": {},
   "outputs": [],
   "source": [
    "#finding coorealtions "
   ]
  },
  {
   "cell_type": "code",
   "execution_count": 76,
   "id": "authorized-rocket",
   "metadata": {},
   "outputs": [
    {
     "data": {
      "text/plain": [
       "0.044623813315777285"
      ]
     },
     "execution_count": 76,
     "metadata": {},
     "output_type": "execute_result"
    }
   ],
   "source": [
    "dfReturnsScore2['Returns'].corr(dfReturnsScore2['Score(1)'])\n"
   ]
  },
  {
   "cell_type": "code",
   "execution_count": null,
   "id": "upset-wales",
   "metadata": {},
   "outputs": [],
   "source": []
  }
 ],
 "metadata": {
  "kernelspec": {
   "display_name": "tensor",
   "language": "python",
   "name": "tensor"
  },
  "language_info": {
   "codemirror_mode": {
    "name": "ipython",
    "version": 3
   },
   "file_extension": ".py",
   "mimetype": "text/x-python",
   "name": "python",
   "nbconvert_exporter": "python",
   "pygments_lexer": "ipython3",
   "version": "3.8.5"
  }
 },
 "nbformat": 4,
 "nbformat_minor": 5
}
